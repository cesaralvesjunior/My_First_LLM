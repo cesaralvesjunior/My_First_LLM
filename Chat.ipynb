{
  "nbformat": 4,
  "nbformat_minor": 0,
  "metadata": {
    "colab": {
      "provenance": [],
      "authorship_tag": "ABX9TyPIhwRYWdyBG0tjl3uYzAH+",
      "include_colab_link": true
    },
    "kernelspec": {
      "name": "python3",
      "display_name": "Python 3"
    },
    "language_info": {
      "name": "python"
    }
  },
  "cells": [
    {
      "cell_type": "markdown",
      "metadata": {
        "id": "view-in-github",
        "colab_type": "text"
      },
      "source": [
        "<a href=\"https://colab.research.google.com/github/cesaralvesjunior/My_First_LLM/blob/main/Chat.ipynb\" target=\"_parent\"><img src=\"https://colab.research.google.com/assets/colab-badge.svg\" alt=\"Open In Colab\"/></a>"
      ]
    },
    {
      "cell_type": "markdown",
      "source": [
        "Instalando SDK do Google"
      ],
      "metadata": {
        "id": "r0iX4S5IICRc"
      }
    },
    {
      "cell_type": "code",
      "execution_count": 1,
      "metadata": {
        "id": "U8I4quSkH9Ua"
      },
      "outputs": [],
      "source": [
        "!pip install -q -U google-generativeai"
      ]
    },
    {
      "cell_type": "code",
      "source": [
        "import google.generativeai as genai\n",
        "# Or use `os.getenv('GOOGLE_API_KEY')` to fetch an environment variable.\n",
        "GOOGLE_API_KEY=\"\"\n",
        "\n",
        "genai.configure(api_key=GOOGLE_API_KEY)"
      ],
      "metadata": {
        "id": "yfA-uHskISkj"
      },
      "execution_count": 3,
      "outputs": []
    },
    {
      "cell_type": "markdown",
      "source": [
        "Listar os modelos disponíveis\n"
      ],
      "metadata": {
        "id": "09jUMi6FIgZo"
      }
    },
    {
      "cell_type": "code",
      "source": [
        "for m in genai.list_models():\n",
        "  if 'generateContent' in m.supported_generation_methods:\n",
        "    print(m.name)"
      ],
      "metadata": {
        "colab": {
          "base_uri": "https://localhost:8080/",
          "height": 138
        },
        "id": "sKXpsWhRIltS",
        "outputId": "e2363d70-cedc-4811-c3ca-a613e716fe41"
      },
      "execution_count": 4,
      "outputs": [
        {
          "output_type": "stream",
          "name": "stdout",
          "text": [
            "models/gemini-1.0-pro\n",
            "models/gemini-1.0-pro-001\n",
            "models/gemini-1.0-pro-latest\n",
            "models/gemini-1.0-pro-vision-latest\n",
            "models/gemini-1.5-pro-latest\n",
            "models/gemini-pro\n",
            "models/gemini-pro-vision\n"
          ]
        }
      ]
    },
    {
      "cell_type": "code",
      "source": [
        "generation_config = {\n",
        "    \"candidate_count\": 1,\n",
        "    \"temperature\": 0.5,\n",
        "}"
      ],
      "metadata": {
        "id": "PFl5929nKkig"
      },
      "execution_count": 5,
      "outputs": []
    },
    {
      "cell_type": "code",
      "source": [
        "safety_settings = {\n",
        "    \"HARASSMENT\": \"BLOCK_NONE\",\n",
        "    \"HATE\": \"BLOCK_NONE\",\n",
        "    \"SEXUAL\": \"BLOCK_NONE\",\n",
        "    \"DANGEROUS\": \"BLOCK_NONE\",\n",
        "}"
      ],
      "metadata": {
        "id": "EW-ihlIpMm2G"
      },
      "execution_count": 6,
      "outputs": []
    },
    {
      "cell_type": "markdown",
      "source": [
        "Inicializando o modelo"
      ],
      "metadata": {
        "id": "DcMbosP4NCCE"
      }
    },
    {
      "cell_type": "code",
      "source": [
        "model = genai.GenerativeModel(model_name =\"gemini-1.0-pro\",\n",
        "                              generation_config=generation_config,\n",
        "                              safety_settings=safety_settings)"
      ],
      "metadata": {
        "id": "xCIwTrKYNFYX"
      },
      "execution_count": 7,
      "outputs": []
    },
    {
      "cell_type": "code",
      "source": [
        "response = model.generate_content(\"Vamos aprender conteúdo sobre IA. Me dê sugestões.\")\n",
        "print(response.text)"
      ],
      "metadata": {
        "colab": {
          "base_uri": "https://localhost:8080/",
          "height": 954
        },
        "id": "zEoL0ZnkOdgD",
        "outputId": "40f84942-8ac0-438c-85e7-39a0a39a2317"
      },
      "execution_count": 11,
      "outputs": [
        {
          "output_type": "stream",
          "name": "stdout",
          "text": [
            "**Conceitos Fundamentais**\n",
            "\n",
            "* Definição e histórico da Inteligência Artificial (IA)\n",
            "* Tipos de IA: IA fraca, IA forte, IA geral\n",
            "* Aprendizado de máquina, aprendizado profundo e redes neurais\n",
            "* Processamento de linguagem natural (PNL)\n",
            "* Visão computacional\n",
            "\n",
            "**Aplicações da IA**\n",
            "\n",
            "* Automação e otimização de processos\n",
            "* Atendimento ao cliente e chatbots\n",
            "* Reconhecimento de padrões e análise preditiva\n",
            "* Diagnóstico médico e tratamento personalizado\n",
            "* Veículos autônomos e robótica\n",
            "\n",
            "**Ética e Implicações Sociais da IA**\n",
            "\n",
            "* Preocupações éticas sobre viés, discriminação e privacidade\n",
            "* Impacto social da IA no emprego, desigualdade e sociedade\n",
            "* Regulamentações e políticas éticas para o desenvolvimento e uso da IA\n",
            "\n",
            "**Aprendizado de Máquina**\n",
            "\n",
            "* Algoritmos de aprendizado de máquina: aprendizado supervisionado, não supervisionado e por reforço\n",
            "* Modelos de aprendizado de máquina: regressão, classificação, agrupamento\n",
            "* Avaliação e otimização de modelos de aprendizado de máquina\n",
            "* Técnicas de seleção de recursos e processamento de dados\n",
            "\n",
            "**Aprendizado Profundo**\n",
            "\n",
            "* Redes neurais profundas: arquitetura e funcionamento\n",
            "* Técnicas de treinamento e otimização para redes neurais profundas\n",
            "* Aplicações do aprendizado profundo em visão computacional, PNL e outras áreas\n",
            "\n",
            "**Processamento de Linguagem Natural**\n",
            "\n",
            "* Análise sintática e semântica\n",
            "* Modelagem estatística da linguagem\n",
            "* Reconhecimento de fala e síntese de fala\n",
            "* Geração de linguagem natural e compreensão de linguagem natural\n",
            "\n",
            "**Visão Computacional**\n",
            "\n",
            "* Reconhecimento de objetos e detecção de padrões\n",
            "* Segmentação de imagens e extração de recursos\n",
            "* Visão estéreo e reconstrução 3D\n",
            "* Aplicações da visão computacional em robótica, veículos autônomos e segurança\n",
            "\n",
            "**Recursos Adicionais**\n",
            "\n",
            "* **Cursos online:** Coursera, edX, Udemy\n",
            "* **Livros:** \"Inteligência Artificial: Uma Abordagem Moderna\" (Stuart Russell e Peter Norvig), \"Aprendizado de Máquina\" (Tom Mitchell)\n",
            "* **Revistas e conferências:** IEEE Transactions on Artificial Intelligence, NeurIPS, ICML\n"
          ]
        }
      ]
    },
    {
      "cell_type": "code",
      "source": [
        "chat = model.start_chat(history =[])"
      ],
      "metadata": {
        "id": "zuWewkL-QLz6"
      },
      "execution_count": 12,
      "outputs": []
    },
    {
      "cell_type": "code",
      "source": [
        "prompt = input(\"Esperando o prompt: \")\n",
        "\n",
        "while prompt != \"fim\":\n",
        "  response = chat.send_message(prompt)\n",
        "  print(\"Resposta: \", response.text, \"\\n\")\n",
        "  prompt = input(\"Esperando o prompt: \")"
      ],
      "metadata": {
        "colab": {
          "base_uri": "https://localhost:8080/",
          "height": 138
        },
        "id": "uGxcnNF1QqJA",
        "outputId": "bbb00ce1-4981-42c6-91f0-1e57b6cbda0b"
      },
      "execution_count": 14,
      "outputs": [
        {
          "name": "stdout",
          "output_type": "stream",
          "text": [
            "Esperando o prompt: Qual a capital do Japão?\n",
            "Resposta:  Tóquio \n",
            "\n",
            "Esperando o prompt: Qual a comida tipica desse pais?\n",
            "Resposta:  Sushi \n",
            "\n",
            "Esperando o prompt: fim\n"
          ]
        }
      ]
    },
    {
      "cell_type": "code",
      "source": [
        "#Melhorando a visualização\n",
        "#Código disponível em https://ai.google.dev/tutorials/python_quickstart#import_packages\n",
        "import textwrap\n",
        "from IPython.display import display\n",
        "from IPython.display import Markdown\n",
        "\n",
        "def to_markdown(text):\n",
        "  text = text.replace('•', '  *')\n",
        "  return Markdown(textwrap.indent(text, '> ', predicate=lambda _: True))\n",
        "\n",
        "#Imprimindo o histórico\n",
        "for message in chat.history:\n",
        "  display(to_markdown(f'**{message.role}**: {message.parts[0].text}'))\n",
        "  print('-------------------------------------------')"
      ],
      "metadata": {
        "colab": {
          "base_uri": "https://localhost:8080/",
          "height": 268
        },
        "id": "cTzev1ODTXRG",
        "outputId": "feac1d06-eddc-4792-e1ca-e279af92e0b3"
      },
      "execution_count": 16,
      "outputs": [
        {
          "output_type": "display_data",
          "data": {
            "text/plain": [
              "<IPython.core.display.Markdown object>"
            ],
            "text/markdown": "> **user**: Qual a capital do Japão?"
          },
          "metadata": {}
        },
        {
          "output_type": "stream",
          "name": "stdout",
          "text": [
            "-------------------------------------------\n"
          ]
        },
        {
          "output_type": "display_data",
          "data": {
            "text/plain": [
              "<IPython.core.display.Markdown object>"
            ],
            "text/markdown": "> **model**: Tóquio"
          },
          "metadata": {}
        },
        {
          "output_type": "stream",
          "name": "stdout",
          "text": [
            "-------------------------------------------\n"
          ]
        },
        {
          "output_type": "display_data",
          "data": {
            "text/plain": [
              "<IPython.core.display.Markdown object>"
            ],
            "text/markdown": "> **user**: Qual a comida tipica desse pais?"
          },
          "metadata": {}
        },
        {
          "output_type": "stream",
          "name": "stdout",
          "text": [
            "-------------------------------------------\n"
          ]
        },
        {
          "output_type": "display_data",
          "data": {
            "text/plain": [
              "<IPython.core.display.Markdown object>"
            ],
            "text/markdown": "> **model**: Sushi"
          },
          "metadata": {}
        },
        {
          "output_type": "stream",
          "name": "stdout",
          "text": [
            "-------------------------------------------\n"
          ]
        }
      ]
    }
  ]
}